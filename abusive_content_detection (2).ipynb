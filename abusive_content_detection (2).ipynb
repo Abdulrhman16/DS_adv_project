{
  "cells": [
    {
      "cell_type": "markdown",
      "source": [
        "## Step 1: Importing Required Libraries\n",
        "In this section, we import all the necessary libraries and modules required for building and training a deep learning model for text classification. This includes:\n",
        "\n",
        "- **TensorFlow & Keras**: For building and training the neural network (e.g., LSTM, Conv1D).\n",
        "- **Pandas & NumPy**: For data handling and numerical operations.\n",
        "- **Matplotlib**: For plotting and visualizations.\n",
        "- **Scikit-learn**: For dataset splitting.\n",
        "- **Google Colab Drive**: For loading data from Google Drive.\n",
        "- **Keras Regularizers**: To apply regularization (e.g., L2) in neural network layers."
      ],
      "metadata": {
        "id": "QTB-OpotqfYM"
      }
    },
    {
      "cell_type": "code",
      "execution_count": null,
      "metadata": {
        "id": "oT0n9b3mgiNQ"
      },
      "outputs": [],
      "source": [
        "# needed libraries\n",
        "import tensorflow as tf\n",
        "from tensorflow.keras.models import Model\n",
        "from tensorflow.keras.layers import Input, Embedding, Conv1D, MaxPooling1D, Flatten, LSTM, Bidirectional, Dense, Dropout\n",
        "from tensorflow.keras.preprocessing.text import Tokenizer\n",
        "from tensorflow.keras.preprocessing.sequence import pad_sequences\n",
        "import pandas as pd\n",
        "import numpy as np\n",
        "import matplotlib.pyplot as plt\n",
        "from sklearn.model_selection import train_test_split\n",
        "from google.colab import drive\n",
        "from tensorflow.keras.regularizers import l2\n"
      ]
    },
    {
      "cell_type": "markdown",
      "source": [
        "## Step 2: Accessing the Dataset from Google Drive\n",
        "\n",
        "To access the dataset stored in Google Drive:\n",
        "\n",
        "- **Mount Google Drive** to the Colab environment so files can be accessed as if they're local.\n",
        "- **Define the file path** to the CSV dataset, which contains the text data for training the abusive content detection model.\n"
      ],
      "metadata": {
        "id": "S9e-3s9IqqjZ"
      }
    },
    {
      "cell_type": "code",
      "execution_count": null,
      "metadata": {
        "colab": {
          "base_uri": "https://localhost:8080/"
        },
        "id": "p0bpG0GwLq2o",
        "outputId": "a09fcb8c-1f30-4b1b-f4c8-4aa5100d6fbc"
      },
      "outputs": [
        {
          "output_type": "stream",
          "name": "stdout",
          "text": [
            "Mounted at /content/drive\n"
          ]
        }
      ],
      "source": [
        "# Mount Google Drive\n",
        "drive.mount('/content/drive')\n",
        "# Define the file path in Google Drive\n",
        "file_path = \"/content/drive/MyDrive/Adv_DS/Accepted/abusive_dataset_content/updated_dataset.csv\""
      ]
    },
    {
      "cell_type": "markdown",
      "source": [
        "## Step 3: Load and Clean the Dataset\n",
        "\n",
        "- **Read the CSV file** from the specified path using `pandas`.\n",
        "- **Drop any rows with missing values** to avoid issues during training.\n",
        "- **Filter out rows labeled as `'Error'`** to ensure the dataset only contains valid labeled samples.\n",
        "- **Display the first few rows** to get a quick look at the data structure.\n"
      ],
      "metadata": {
        "id": "O8JniyuoqyK1"
      }
    },
    {
      "cell_type": "code",
      "execution_count": null,
      "metadata": {
        "colab": {
          "base_uri": "https://localhost:8080/"
        },
        "id": "EOCxTizcg99p",
        "outputId": "d4e8a60a-14e6-49bb-b1d7-fb02a2ae7f09"
      },
      "outputs": [
        {
          "output_type": "stream",
          "name": "stdout",
          "text": [
            "                                                text  \\\n",
            "0  النعال المريحة أرتدي هذه النعال كثيرافهي دافئة...   \n",
            "1  منتج جميل ، خدمة سيئة لقد اشتريت زوجا من النعا...   \n",
            "2  جيد للأشياء الصغيرة هذا يعمل بشكل جيد لالتقاط ...   \n",
            "3  واهية للغاية  للغاية ، فأنت تشتريه ، كن حذرا ج...   \n",
            "4  ، والأشخاص الذين يحبون الضحك عليك فقط أن تبتسم...   \n",
            "\n",
            "                                              tokens  \\\n",
            "0  ['النعال', 'المريحة', 'أرتدي', 'هذه', 'النعال'...   \n",
            "1  ['منتج', 'جميل', '،', 'خدمة', 'سيئة', 'لقد', '...   \n",
            "2  ['جيد', 'للأشياء', 'الصغيرة', 'هذا', 'يعمل', '...   \n",
            "3  ['واهية', 'للغاية', 'للغاية', '،', 'فأنت', 'تش...   \n",
            "4  ['،', 'والأشخاص', 'الذين', 'يحبون', 'الضحك', '...   \n",
            "\n",
            "                                     filtered_tokens  \\\n",
            "0  ['النعال', 'المريحة', 'أرتدي', 'النعال', 'كثير...   \n",
            "1  ['منتج', 'جميل', '،', 'خدمة', 'سيئة', 'لقد', '...   \n",
            "2  ['جيد', 'للأشياء', 'الصغيرة', 'يعمل', 'بشكل', ...   \n",
            "3  ['واهية', 'للغاية', 'للغاية', '،', 'فأنت', 'تش...   \n",
            "4  ['،', 'والأشخاص', 'يحبون', 'الضحك', 'فقط', 'تب...   \n",
            "\n",
            "                                      stemmed_tokens Label  \n",
            "0  ['نعل', 'ريح', 'ردي', 'نعل', 'كثيرافهي', 'دفئ'...     P  \n",
            "1  ['نتج', 'جمل', '،', 'خدم', 'سيئ', 'لقد', 'شري'...     N  \n",
            "2  ['جيد', 'شيء', 'صغر', 'عمل', 'شكل', 'جيد', 'لق...     N  \n",
            "3  ['وهي', 'غية', 'غية', '،', 'فأن', 'شري', '،', ...     N  \n",
            "4  ['،', 'شخص', 'يحب', 'ضحك', 'فقط', 'بسم', 'عند'...     N  \n"
          ]
        }
      ],
      "source": [
        "# 2️⃣ **تحميل البيانات**\n",
        "df = pd.read_csv(file_path)  # Read the data\n",
        "df.dropna(inplace=True)  # Remove empty values\n",
        "\n",
        "df = df[df['Label'] != 'Error']\n",
        "\n",
        "# Display the data\n",
        "print(df.head())"
      ]
    },
    {
      "cell_type": "code",
      "execution_count": null,
      "metadata": {
        "colab": {
          "base_uri": "https://localhost:8080/",
          "height": 424
        },
        "id": "t7sz1Qmk00rx",
        "outputId": "4cadb5f6-00b1-41af-aba4-304d19dff08d"
      },
      "outputs": [
        {
          "output_type": "execute_result",
          "data": {
            "text/plain": [
              "                                                     text  \\\n",
              "0       النعال المريحة أرتدي هذه النعال كثيرافهي دافئة...   \n",
              "1       منتج جميل ، خدمة سيئة لقد اشتريت زوجا من النعا...   \n",
              "2       جيد للأشياء الصغيرة هذا يعمل بشكل جيد لالتقاط ...   \n",
              "3       واهية للغاية  للغاية ، فأنت تشتريه ، كن حذرا ج...   \n",
              "4       ، والأشخاص الذين يحبون الضحك عليك فقط أن تبتسم...   \n",
              "...                                                   ...   \n",
              "690336           هاي باهي وليت تفهم في اللبسة متاع الرجال   \n",
              "690337                                      ريي يصبر امها   \n",
              "690338            اللهم امين يارب العالمين ربي يصبر أهلهم   \n",
              "690339  اللهم امين يارب العالمين مخيبها عواشر لا حول و...   \n",
              "690340  لا حول ولا قوة الا بالله جريمة بشعة في    في س...   \n",
              "\n",
              "                                                   tokens  \\\n",
              "0       ['النعال', 'المريحة', 'أرتدي', 'هذه', 'النعال'...   \n",
              "1       ['منتج', 'جميل', '،', 'خدمة', 'سيئة', 'لقد', '...   \n",
              "2       ['جيد', 'للأشياء', 'الصغيرة', 'هذا', 'يعمل', '...   \n",
              "3       ['واهية', 'للغاية', 'للغاية', '،', 'فأنت', 'تش...   \n",
              "4       ['،', 'والأشخاص', 'الذين', 'يحبون', 'الضحك', '...   \n",
              "...                                                   ...   \n",
              "690336  ['هاي', 'باهي', 'وليت', 'تفهم', 'في', 'اللبسة'...   \n",
              "690337                            ['ريي', 'يصبر', 'امها']   \n",
              "690338  ['اللهم', 'امين', 'يارب', 'العالمين', 'ربي', '...   \n",
              "690339  ['اللهم', 'امين', 'يارب', 'العالمين', 'مخيبها'...   \n",
              "690340  ['لا', 'حول', 'ولا', 'قوة', 'الا', 'بالله', 'ج...   \n",
              "\n",
              "                                          filtered_tokens  \\\n",
              "0       ['النعال', 'المريحة', 'أرتدي', 'النعال', 'كثير...   \n",
              "1       ['منتج', 'جميل', '،', 'خدمة', 'سيئة', 'لقد', '...   \n",
              "2       ['جيد', 'للأشياء', 'الصغيرة', 'يعمل', 'بشكل', ...   \n",
              "3       ['واهية', 'للغاية', 'للغاية', '،', 'فأنت', 'تش...   \n",
              "4       ['،', 'والأشخاص', 'يحبون', 'الضحك', 'فقط', 'تب...   \n",
              "...                                                   ...   \n",
              "690336  ['هاي', 'باهي', 'وليت', 'تفهم', 'اللبسة', 'متا...   \n",
              "690337                            ['ريي', 'يصبر', 'امها']   \n",
              "690338  ['اللهم', 'امين', 'يارب', 'العالمين', 'ربي', '...   \n",
              "690339  ['اللهم', 'امين', 'يارب', 'العالمين', 'مخيبها'...   \n",
              "690340  ['حول', 'قوة', 'الا', 'بالله', 'جريمة', 'بشعة'...   \n",
              "\n",
              "                                           stemmed_tokens Label  \n",
              "0       ['نعل', 'ريح', 'ردي', 'نعل', 'كثيرافهي', 'دفئ'...     P  \n",
              "1       ['نتج', 'جمل', '،', 'خدم', 'سيئ', 'لقد', 'شري'...     N  \n",
              "2       ['جيد', 'شيء', 'صغر', 'عمل', 'شكل', 'جيد', 'لق...     N  \n",
              "3       ['وهي', 'غية', 'غية', '،', 'فأن', 'شري', '،', ...     N  \n",
              "4       ['،', 'شخص', 'يحب', 'ضحك', 'فقط', 'بسم', 'عند'...     N  \n",
              "...                                                   ...   ...  \n",
              "690336  ['هاي', 'بهي', 'ولت', 'فهم', 'لبس', 'تاع', 'رجل']     N  \n",
              "690337                              ['ريي', 'صبر', 'امه']     N  \n",
              "690338  ['لهم', 'امن', 'يرب', 'علم', 'ربي', 'صبر', 'اهل']     P  \n",
              "690339  ['لهم', 'امن', 'يرب', 'علم', 'خيب', 'عشر', 'حو...     N  \n",
              "690340  ['حول', 'قوة', 'الا', 'بلل', 'جرم', 'بشع', 'يس...     N  \n",
              "\n",
              "[686932 rows x 5 columns]"
            ],
            "text/html": [
              "\n",
              "  <div id=\"df-80f7950d-a373-428e-8ae1-dd93ceabac2a\" class=\"colab-df-container\">\n",
              "    <div>\n",
              "<style scoped>\n",
              "    .dataframe tbody tr th:only-of-type {\n",
              "        vertical-align: middle;\n",
              "    }\n",
              "\n",
              "    .dataframe tbody tr th {\n",
              "        vertical-align: top;\n",
              "    }\n",
              "\n",
              "    .dataframe thead th {\n",
              "        text-align: right;\n",
              "    }\n",
              "</style>\n",
              "<table border=\"1\" class=\"dataframe\">\n",
              "  <thead>\n",
              "    <tr style=\"text-align: right;\">\n",
              "      <th></th>\n",
              "      <th>text</th>\n",
              "      <th>tokens</th>\n",
              "      <th>filtered_tokens</th>\n",
              "      <th>stemmed_tokens</th>\n",
              "      <th>Label</th>\n",
              "    </tr>\n",
              "  </thead>\n",
              "  <tbody>\n",
              "    <tr>\n",
              "      <th>0</th>\n",
              "      <td>النعال المريحة أرتدي هذه النعال كثيرافهي دافئة...</td>\n",
              "      <td>['النعال', 'المريحة', 'أرتدي', 'هذه', 'النعال'...</td>\n",
              "      <td>['النعال', 'المريحة', 'أرتدي', 'النعال', 'كثير...</td>\n",
              "      <td>['نعل', 'ريح', 'ردي', 'نعل', 'كثيرافهي', 'دفئ'...</td>\n",
              "      <td>P</td>\n",
              "    </tr>\n",
              "    <tr>\n",
              "      <th>1</th>\n",
              "      <td>منتج جميل ، خدمة سيئة لقد اشتريت زوجا من النعا...</td>\n",
              "      <td>['منتج', 'جميل', '،', 'خدمة', 'سيئة', 'لقد', '...</td>\n",
              "      <td>['منتج', 'جميل', '،', 'خدمة', 'سيئة', 'لقد', '...</td>\n",
              "      <td>['نتج', 'جمل', '،', 'خدم', 'سيئ', 'لقد', 'شري'...</td>\n",
              "      <td>N</td>\n",
              "    </tr>\n",
              "    <tr>\n",
              "      <th>2</th>\n",
              "      <td>جيد للأشياء الصغيرة هذا يعمل بشكل جيد لالتقاط ...</td>\n",
              "      <td>['جيد', 'للأشياء', 'الصغيرة', 'هذا', 'يعمل', '...</td>\n",
              "      <td>['جيد', 'للأشياء', 'الصغيرة', 'يعمل', 'بشكل', ...</td>\n",
              "      <td>['جيد', 'شيء', 'صغر', 'عمل', 'شكل', 'جيد', 'لق...</td>\n",
              "      <td>N</td>\n",
              "    </tr>\n",
              "    <tr>\n",
              "      <th>3</th>\n",
              "      <td>واهية للغاية  للغاية ، فأنت تشتريه ، كن حذرا ج...</td>\n",
              "      <td>['واهية', 'للغاية', 'للغاية', '،', 'فأنت', 'تش...</td>\n",
              "      <td>['واهية', 'للغاية', 'للغاية', '،', 'فأنت', 'تش...</td>\n",
              "      <td>['وهي', 'غية', 'غية', '،', 'فأن', 'شري', '،', ...</td>\n",
              "      <td>N</td>\n",
              "    </tr>\n",
              "    <tr>\n",
              "      <th>4</th>\n",
              "      <td>، والأشخاص الذين يحبون الضحك عليك فقط أن تبتسم...</td>\n",
              "      <td>['،', 'والأشخاص', 'الذين', 'يحبون', 'الضحك', '...</td>\n",
              "      <td>['،', 'والأشخاص', 'يحبون', 'الضحك', 'فقط', 'تب...</td>\n",
              "      <td>['،', 'شخص', 'يحب', 'ضحك', 'فقط', 'بسم', 'عند'...</td>\n",
              "      <td>N</td>\n",
              "    </tr>\n",
              "    <tr>\n",
              "      <th>...</th>\n",
              "      <td>...</td>\n",
              "      <td>...</td>\n",
              "      <td>...</td>\n",
              "      <td>...</td>\n",
              "      <td>...</td>\n",
              "    </tr>\n",
              "    <tr>\n",
              "      <th>690336</th>\n",
              "      <td>هاي باهي وليت تفهم في اللبسة متاع الرجال</td>\n",
              "      <td>['هاي', 'باهي', 'وليت', 'تفهم', 'في', 'اللبسة'...</td>\n",
              "      <td>['هاي', 'باهي', 'وليت', 'تفهم', 'اللبسة', 'متا...</td>\n",
              "      <td>['هاي', 'بهي', 'ولت', 'فهم', 'لبس', 'تاع', 'رجل']</td>\n",
              "      <td>N</td>\n",
              "    </tr>\n",
              "    <tr>\n",
              "      <th>690337</th>\n",
              "      <td>ريي يصبر امها</td>\n",
              "      <td>['ريي', 'يصبر', 'امها']</td>\n",
              "      <td>['ريي', 'يصبر', 'امها']</td>\n",
              "      <td>['ريي', 'صبر', 'امه']</td>\n",
              "      <td>N</td>\n",
              "    </tr>\n",
              "    <tr>\n",
              "      <th>690338</th>\n",
              "      <td>اللهم امين يارب العالمين ربي يصبر أهلهم</td>\n",
              "      <td>['اللهم', 'امين', 'يارب', 'العالمين', 'ربي', '...</td>\n",
              "      <td>['اللهم', 'امين', 'يارب', 'العالمين', 'ربي', '...</td>\n",
              "      <td>['لهم', 'امن', 'يرب', 'علم', 'ربي', 'صبر', 'اهل']</td>\n",
              "      <td>P</td>\n",
              "    </tr>\n",
              "    <tr>\n",
              "      <th>690339</th>\n",
              "      <td>اللهم امين يارب العالمين مخيبها عواشر لا حول و...</td>\n",
              "      <td>['اللهم', 'امين', 'يارب', 'العالمين', 'مخيبها'...</td>\n",
              "      <td>['اللهم', 'امين', 'يارب', 'العالمين', 'مخيبها'...</td>\n",
              "      <td>['لهم', 'امن', 'يرب', 'علم', 'خيب', 'عشر', 'حو...</td>\n",
              "      <td>N</td>\n",
              "    </tr>\n",
              "    <tr>\n",
              "      <th>690340</th>\n",
              "      <td>لا حول ولا قوة الا بالله جريمة بشعة في    في س...</td>\n",
              "      <td>['لا', 'حول', 'ولا', 'قوة', 'الا', 'بالله', 'ج...</td>\n",
              "      <td>['حول', 'قوة', 'الا', 'بالله', 'جريمة', 'بشعة'...</td>\n",
              "      <td>['حول', 'قوة', 'الا', 'بلل', 'جرم', 'بشع', 'يس...</td>\n",
              "      <td>N</td>\n",
              "    </tr>\n",
              "  </tbody>\n",
              "</table>\n",
              "<p>686932 rows × 5 columns</p>\n",
              "</div>\n",
              "    <div class=\"colab-df-buttons\">\n",
              "\n",
              "  <div class=\"colab-df-container\">\n",
              "    <button class=\"colab-df-convert\" onclick=\"convertToInteractive('df-80f7950d-a373-428e-8ae1-dd93ceabac2a')\"\n",
              "            title=\"Convert this dataframe to an interactive table.\"\n",
              "            style=\"display:none;\">\n",
              "\n",
              "  <svg xmlns=\"http://www.w3.org/2000/svg\" height=\"24px\" viewBox=\"0 -960 960 960\">\n",
              "    <path d=\"M120-120v-720h720v720H120Zm60-500h600v-160H180v160Zm220 220h160v-160H400v160Zm0 220h160v-160H400v160ZM180-400h160v-160H180v160Zm440 0h160v-160H620v160ZM180-180h160v-160H180v160Zm440 0h160v-160H620v160Z\"/>\n",
              "  </svg>\n",
              "    </button>\n",
              "\n",
              "  <style>\n",
              "    .colab-df-container {\n",
              "      display:flex;\n",
              "      gap: 12px;\n",
              "    }\n",
              "\n",
              "    .colab-df-convert {\n",
              "      background-color: #E8F0FE;\n",
              "      border: none;\n",
              "      border-radius: 50%;\n",
              "      cursor: pointer;\n",
              "      display: none;\n",
              "      fill: #1967D2;\n",
              "      height: 32px;\n",
              "      padding: 0 0 0 0;\n",
              "      width: 32px;\n",
              "    }\n",
              "\n",
              "    .colab-df-convert:hover {\n",
              "      background-color: #E2EBFA;\n",
              "      box-shadow: 0px 1px 2px rgba(60, 64, 67, 0.3), 0px 1px 3px 1px rgba(60, 64, 67, 0.15);\n",
              "      fill: #174EA6;\n",
              "    }\n",
              "\n",
              "    .colab-df-buttons div {\n",
              "      margin-bottom: 4px;\n",
              "    }\n",
              "\n",
              "    [theme=dark] .colab-df-convert {\n",
              "      background-color: #3B4455;\n",
              "      fill: #D2E3FC;\n",
              "    }\n",
              "\n",
              "    [theme=dark] .colab-df-convert:hover {\n",
              "      background-color: #434B5C;\n",
              "      box-shadow: 0px 1px 3px 1px rgba(0, 0, 0, 0.15);\n",
              "      filter: drop-shadow(0px 1px 2px rgba(0, 0, 0, 0.3));\n",
              "      fill: #FFFFFF;\n",
              "    }\n",
              "  </style>\n",
              "\n",
              "    <script>\n",
              "      const buttonEl =\n",
              "        document.querySelector('#df-80f7950d-a373-428e-8ae1-dd93ceabac2a button.colab-df-convert');\n",
              "      buttonEl.style.display =\n",
              "        google.colab.kernel.accessAllowed ? 'block' : 'none';\n",
              "\n",
              "      async function convertToInteractive(key) {\n",
              "        const element = document.querySelector('#df-80f7950d-a373-428e-8ae1-dd93ceabac2a');\n",
              "        const dataTable =\n",
              "          await google.colab.kernel.invokeFunction('convertToInteractive',\n",
              "                                                    [key], {});\n",
              "        if (!dataTable) return;\n",
              "\n",
              "        const docLinkHtml = 'Like what you see? Visit the ' +\n",
              "          '<a target=\"_blank\" href=https://colab.research.google.com/notebooks/data_table.ipynb>data table notebook</a>'\n",
              "          + ' to learn more about interactive tables.';\n",
              "        element.innerHTML = '';\n",
              "        dataTable['output_type'] = 'display_data';\n",
              "        await google.colab.output.renderOutput(dataTable, element);\n",
              "        const docLink = document.createElement('div');\n",
              "        docLink.innerHTML = docLinkHtml;\n",
              "        element.appendChild(docLink);\n",
              "      }\n",
              "    </script>\n",
              "  </div>\n",
              "\n",
              "\n",
              "<div id=\"df-23ac565e-7983-4e3a-b943-73fd64a8257f\">\n",
              "  <button class=\"colab-df-quickchart\" onclick=\"quickchart('df-23ac565e-7983-4e3a-b943-73fd64a8257f')\"\n",
              "            title=\"Suggest charts\"\n",
              "            style=\"display:none;\">\n",
              "\n",
              "<svg xmlns=\"http://www.w3.org/2000/svg\" height=\"24px\"viewBox=\"0 0 24 24\"\n",
              "     width=\"24px\">\n",
              "    <g>\n",
              "        <path d=\"M19 3H5c-1.1 0-2 .9-2 2v14c0 1.1.9 2 2 2h14c1.1 0 2-.9 2-2V5c0-1.1-.9-2-2-2zM9 17H7v-7h2v7zm4 0h-2V7h2v10zm4 0h-2v-4h2v4z\"/>\n",
              "    </g>\n",
              "</svg>\n",
              "  </button>\n",
              "\n",
              "<style>\n",
              "  .colab-df-quickchart {\n",
              "      --bg-color: #E8F0FE;\n",
              "      --fill-color: #1967D2;\n",
              "      --hover-bg-color: #E2EBFA;\n",
              "      --hover-fill-color: #174EA6;\n",
              "      --disabled-fill-color: #AAA;\n",
              "      --disabled-bg-color: #DDD;\n",
              "  }\n",
              "\n",
              "  [theme=dark] .colab-df-quickchart {\n",
              "      --bg-color: #3B4455;\n",
              "      --fill-color: #D2E3FC;\n",
              "      --hover-bg-color: #434B5C;\n",
              "      --hover-fill-color: #FFFFFF;\n",
              "      --disabled-bg-color: #3B4455;\n",
              "      --disabled-fill-color: #666;\n",
              "  }\n",
              "\n",
              "  .colab-df-quickchart {\n",
              "    background-color: var(--bg-color);\n",
              "    border: none;\n",
              "    border-radius: 50%;\n",
              "    cursor: pointer;\n",
              "    display: none;\n",
              "    fill: var(--fill-color);\n",
              "    height: 32px;\n",
              "    padding: 0;\n",
              "    width: 32px;\n",
              "  }\n",
              "\n",
              "  .colab-df-quickchart:hover {\n",
              "    background-color: var(--hover-bg-color);\n",
              "    box-shadow: 0 1px 2px rgba(60, 64, 67, 0.3), 0 1px 3px 1px rgba(60, 64, 67, 0.15);\n",
              "    fill: var(--button-hover-fill-color);\n",
              "  }\n",
              "\n",
              "  .colab-df-quickchart-complete:disabled,\n",
              "  .colab-df-quickchart-complete:disabled:hover {\n",
              "    background-color: var(--disabled-bg-color);\n",
              "    fill: var(--disabled-fill-color);\n",
              "    box-shadow: none;\n",
              "  }\n",
              "\n",
              "  .colab-df-spinner {\n",
              "    border: 2px solid var(--fill-color);\n",
              "    border-color: transparent;\n",
              "    border-bottom-color: var(--fill-color);\n",
              "    animation:\n",
              "      spin 1s steps(1) infinite;\n",
              "  }\n",
              "\n",
              "  @keyframes spin {\n",
              "    0% {\n",
              "      border-color: transparent;\n",
              "      border-bottom-color: var(--fill-color);\n",
              "      border-left-color: var(--fill-color);\n",
              "    }\n",
              "    20% {\n",
              "      border-color: transparent;\n",
              "      border-left-color: var(--fill-color);\n",
              "      border-top-color: var(--fill-color);\n",
              "    }\n",
              "    30% {\n",
              "      border-color: transparent;\n",
              "      border-left-color: var(--fill-color);\n",
              "      border-top-color: var(--fill-color);\n",
              "      border-right-color: var(--fill-color);\n",
              "    }\n",
              "    40% {\n",
              "      border-color: transparent;\n",
              "      border-right-color: var(--fill-color);\n",
              "      border-top-color: var(--fill-color);\n",
              "    }\n",
              "    60% {\n",
              "      border-color: transparent;\n",
              "      border-right-color: var(--fill-color);\n",
              "    }\n",
              "    80% {\n",
              "      border-color: transparent;\n",
              "      border-right-color: var(--fill-color);\n",
              "      border-bottom-color: var(--fill-color);\n",
              "    }\n",
              "    90% {\n",
              "      border-color: transparent;\n",
              "      border-bottom-color: var(--fill-color);\n",
              "    }\n",
              "  }\n",
              "</style>\n",
              "\n",
              "  <script>\n",
              "    async function quickchart(key) {\n",
              "      const quickchartButtonEl =\n",
              "        document.querySelector('#' + key + ' button');\n",
              "      quickchartButtonEl.disabled = true;  // To prevent multiple clicks.\n",
              "      quickchartButtonEl.classList.add('colab-df-spinner');\n",
              "      try {\n",
              "        const charts = await google.colab.kernel.invokeFunction(\n",
              "            'suggestCharts', [key], {});\n",
              "      } catch (error) {\n",
              "        console.error('Error during call to suggestCharts:', error);\n",
              "      }\n",
              "      quickchartButtonEl.classList.remove('colab-df-spinner');\n",
              "      quickchartButtonEl.classList.add('colab-df-quickchart-complete');\n",
              "    }\n",
              "    (() => {\n",
              "      let quickchartButtonEl =\n",
              "        document.querySelector('#df-23ac565e-7983-4e3a-b943-73fd64a8257f button');\n",
              "      quickchartButtonEl.style.display =\n",
              "        google.colab.kernel.accessAllowed ? 'block' : 'none';\n",
              "    })();\n",
              "  </script>\n",
              "</div>\n",
              "\n",
              "  <div id=\"id_c49e5140-eefb-4822-93f7-c858812db70c\">\n",
              "    <style>\n",
              "      .colab-df-generate {\n",
              "        background-color: #E8F0FE;\n",
              "        border: none;\n",
              "        border-radius: 50%;\n",
              "        cursor: pointer;\n",
              "        display: none;\n",
              "        fill: #1967D2;\n",
              "        height: 32px;\n",
              "        padding: 0 0 0 0;\n",
              "        width: 32px;\n",
              "      }\n",
              "\n",
              "      .colab-df-generate:hover {\n",
              "        background-color: #E2EBFA;\n",
              "        box-shadow: 0px 1px 2px rgba(60, 64, 67, 0.3), 0px 1px 3px 1px rgba(60, 64, 67, 0.15);\n",
              "        fill: #174EA6;\n",
              "      }\n",
              "\n",
              "      [theme=dark] .colab-df-generate {\n",
              "        background-color: #3B4455;\n",
              "        fill: #D2E3FC;\n",
              "      }\n",
              "\n",
              "      [theme=dark] .colab-df-generate:hover {\n",
              "        background-color: #434B5C;\n",
              "        box-shadow: 0px 1px 3px 1px rgba(0, 0, 0, 0.15);\n",
              "        filter: drop-shadow(0px 1px 2px rgba(0, 0, 0, 0.3));\n",
              "        fill: #FFFFFF;\n",
              "      }\n",
              "    </style>\n",
              "    <button class=\"colab-df-generate\" onclick=\"generateWithVariable('df')\"\n",
              "            title=\"Generate code using this dataframe.\"\n",
              "            style=\"display:none;\">\n",
              "\n",
              "  <svg xmlns=\"http://www.w3.org/2000/svg\" height=\"24px\"viewBox=\"0 0 24 24\"\n",
              "       width=\"24px\">\n",
              "    <path d=\"M7,19H8.4L18.45,9,17,7.55,7,17.6ZM5,21V16.75L18.45,3.32a2,2,0,0,1,2.83,0l1.4,1.43a1.91,1.91,0,0,1,.58,1.4,1.91,1.91,0,0,1-.58,1.4L9.25,21ZM18.45,9,17,7.55Zm-12,3A5.31,5.31,0,0,0,4.9,8.1,5.31,5.31,0,0,0,1,6.5,5.31,5.31,0,0,0,4.9,4.9,5.31,5.31,0,0,0,6.5,1,5.31,5.31,0,0,0,8.1,4.9,5.31,5.31,0,0,0,12,6.5,5.46,5.46,0,0,0,6.5,12Z\"/>\n",
              "  </svg>\n",
              "    </button>\n",
              "    <script>\n",
              "      (() => {\n",
              "      const buttonEl =\n",
              "        document.querySelector('#id_c49e5140-eefb-4822-93f7-c858812db70c button.colab-df-generate');\n",
              "      buttonEl.style.display =\n",
              "        google.colab.kernel.accessAllowed ? 'block' : 'none';\n",
              "\n",
              "      buttonEl.onclick = () => {\n",
              "        google.colab.notebook.generateWithVariable('df');\n",
              "      }\n",
              "      })();\n",
              "    </script>\n",
              "  </div>\n",
              "\n",
              "    </div>\n",
              "  </div>\n"
            ],
            "application/vnd.google.colaboratory.intrinsic+json": {
              "type": "dataframe",
              "variable_name": "df"
            }
          },
          "metadata": {},
          "execution_count": 4
        }
      ],
      "source": [
        "df"
      ]
    },
    {
      "cell_type": "code",
      "execution_count": null,
      "metadata": {
        "colab": {
          "base_uri": "https://localhost:8080/"
        },
        "id": "1ono0INy1W8J",
        "outputId": "147ba11d-e3f2-41fe-e077-8fdee8b09491"
      },
      "outputs": [
        {
          "output_type": "stream",
          "name": "stdout",
          "text": [
            "['P' 'N']\n"
          ]
        }
      ],
      "source": [
        "# prompt:  to see all df label\n",
        "print(df['Label'].unique())"
      ]
    },
    {
      "cell_type": "markdown",
      "source": [
        "## Step 4: Balance the Dataset Classes\n",
        "\n",
        "The dataset may be imbalanced (e.g., more non-abusive than abusive samples). To ensure fair training:\n",
        "\n",
        "- **Split the dataset by label**: 'N' (non-abusive) and 'P' (potentially abusive).\n",
        "- **Define the total number of samples** to use (e.g., 686,932), and **split equally between both classes**.\n",
        "- **Randomly sample** an equal number of rows from each class.\n",
        "- **Combine and shuffle** the sampled data to ensure randomness.\n",
        "- **Print the new class distribution** to confirm balance.\n"
      ],
      "metadata": {
        "id": "f9j4-89Sq63p"
      }
    },
    {
      "cell_type": "code",
      "execution_count": null,
      "metadata": {
        "colab": {
          "base_uri": "https://localhost:8080/"
        },
        "id": "zD6ovwFpLbR7",
        "outputId": "465fca67-0541-4458-9a5e-1dc7746671ae"
      },
      "outputs": [
        {
          "output_type": "stream",
          "name": "stdout",
          "text": [
            "Class distribution after balancing:\n",
            "Label\n",
            "N    343466\n",
            "P    257846\n",
            "Name: count, dtype: int64\n",
            "\n",
            "Class distribution before balancing:\n",
            "Label\n",
            "N    429086\n",
            "P    257846\n",
            "Name: count, dtype: int64\n"
          ]
        }
      ],
      "source": [
        "# making dataset classes balanced as possible\n",
        "import pandas as pd\n",
        "\n",
        "# Assuming your dataset is in a DataFrame called `df`\n",
        "# Separate the classes\n",
        "df_N = df[df['Label'] == 'N']\n",
        "df_P = df[df['Label'] == 'P']\n",
        "\n",
        "# Define the number of rows you want to use (e.g., 100k or 50k)\n",
        "num_samples = 686932     # You can change this to 50000 as needed\n",
        "\n",
        "# Ensure balanced sampling by taking half from each class\n",
        "num_per_class = num_samples // 2  # Divide the total samples equally\n",
        "\n",
        "# Sample equal number from each class\n",
        "df_N_sampled = df_N.sample(n=min(num_per_class, len(df_N)), random_state=42)\n",
        "df_P_sampled = df_P.sample(n=min(num_per_class, len(df_P)), random_state=42)\n",
        "\n",
        "# Combine and shuffle the sampled data\n",
        "df_sampled = pd.concat([df_N_sampled, df_P_sampled]).sample(frac=1, random_state=42).reset_index(drop=True)\n",
        "\n",
        "# Display the balanced class distribution\n",
        "print(\"Class distribution after balancing:\")\n",
        "print(df_sampled['Label'].value_counts())\n",
        "\n",
        "# Optionally, check the class distribution before sampling\n",
        "print(\"\\nClass distribution before balancing:\")\n",
        "print(df['Label'].value_counts())\n"
      ]
    },
    {
      "cell_type": "markdown",
      "source": [
        "## Step 5: Calculate Label Frequencies\n",
        "\n",
        "This step is used to **analyze the distribution of labels** in the original dataset:\n",
        "\n",
        "- Count how many times each label (`'N'` or `'P'`) appears using `value_counts()`.\n",
        "- This helps in understanding class imbalance before or after sampling.\n",
        "- In this case, the code resets `df_sampled` to the full dataset before checking frequencies.\n"
      ],
      "metadata": {
        "id": "8DvXSHgErEt1"
      }
    },
    {
      "cell_type": "code",
      "execution_count": null,
      "metadata": {
        "colab": {
          "base_uri": "https://localhost:8080/",
          "height": 178
        },
        "id": "jzMVh6qgWQ1H",
        "outputId": "db4b0899-0e82-4295-d392-5f469d0dc0a0"
      },
      "outputs": [
        {
          "output_type": "execute_result",
          "data": {
            "text/plain": [
              "Label\n",
              "N    429086\n",
              "P    257846\n",
              "Name: count, dtype: int64"
            ],
            "text/html": [
              "<div>\n",
              "<style scoped>\n",
              "    .dataframe tbody tr th:only-of-type {\n",
              "        vertical-align: middle;\n",
              "    }\n",
              "\n",
              "    .dataframe tbody tr th {\n",
              "        vertical-align: top;\n",
              "    }\n",
              "\n",
              "    .dataframe thead th {\n",
              "        text-align: right;\n",
              "    }\n",
              "</style>\n",
              "<table border=\"1\" class=\"dataframe\">\n",
              "  <thead>\n",
              "    <tr style=\"text-align: right;\">\n",
              "      <th></th>\n",
              "      <th>count</th>\n",
              "    </tr>\n",
              "    <tr>\n",
              "      <th>Label</th>\n",
              "      <th></th>\n",
              "    </tr>\n",
              "  </thead>\n",
              "  <tbody>\n",
              "    <tr>\n",
              "      <th>N</th>\n",
              "      <td>429086</td>\n",
              "    </tr>\n",
              "    <tr>\n",
              "      <th>P</th>\n",
              "      <td>257846</td>\n",
              "    </tr>\n",
              "  </tbody>\n",
              "</table>\n",
              "</div><br><label><b>dtype:</b> int64</label>"
            ]
          },
          "metadata": {},
          "execution_count": 9
        }
      ],
      "source": [
        "# Calculate label frequencies\\\n",
        "label_frequencies = df['Label'].value_counts()\n",
        "df_sampled=df\n",
        "#label_frequencies = df_sampled['Label'].value_counts()\n",
        "# Print the frequencies\n",
        "label_frequencies"
      ]
    },
    {
      "cell_type": "markdown",
      "metadata": {
        "id": "GLg_hvYwQdux"
      },
      "source": [
        "## Step 6: Data Preparation and Text Tokenization\n",
        "\n",
        "This step prepares the text data for training a deep learning model:\n",
        "\n",
        "1. **Extract Text and Labels**:\n",
        "   - Convert the text column to a list.\n",
        "   - Map labels to numeric values: `'N'` → `0`, `'P'` → `1`.\n",
        "\n",
        "2. **Train-Test Split**:\n",
        "   - Split the dataset into 90% training and 10% testing.\n",
        "   - Use `stratify` to keep label proportions consistent.\n",
        "\n",
        "3. **Tokenization**:\n",
        "   - Convert text into sequences of integers using Keras’ `Tokenizer`.\n",
        "   - Limit vocabulary size (`max_words = 30,000`) and mark out-of-vocabulary tokens.\n",
        "\n",
        "4. **Padding**:\n",
        "   - Pad all sequences to a fixed length (`max_length = 400`) for uniform input shape.\n",
        "\n",
        "5. **Final Preparation**:\n",
        "   - Convert labels into NumPy arrays (no need for one-hot encoding in binary classification).\n"
      ]
    },
    {
      "cell_type": "code",
      "execution_count": null,
      "metadata": {
        "id": "_sZxLKAEglov"
      },
      "outputs": [],
      "source": [
        "#Data Preparation  90% training 10% testing\n",
        "texts = df_sampled[\"text\"].astype(str).tolist()\n",
        "labels = df_sampled[\"Label\"].tolist()\n",
        "\n",
        "# Convert labels to numeric values (0: Negative, 1: Positive)\n",
        "label_map = {\"N\": 0, \"P\": 1}\n",
        "labels = [label_map[label] for label in labels]  # Numerical labels\n",
        "\n",
        "# Split FIRST to avoid data leakage\n",
        "X_train, X_test, y_train, y_test = train_test_split(\n",
        "    texts,\n",
        "    labels,\n",
        "    test_size=0.10,  # Better split ratio\n",
        "    random_state=42,\n",
        "    stratify=labels  # Preserve class balance\n",
        ")\n",
        "\n",
        "# Convert to numpy arrays\n",
        "y_train = np.array(y_train)\n",
        "y_test = np.array(y_test)\n",
        "\n",
        "# (Use 1 output unit with sigmoid activation)"
      ]
    },
    {
      "cell_type": "code",
      "execution_count": null,
      "metadata": {
        "id": "jDfb2Br3go-G"
      },
      "outputs": [],
      "source": [
        "# Tokenize Text to number before training\n",
        "max_words = 30000  # Maximum number of unique words\n",
        "max_length = 400  # Maximum length of each sentence after padding\n",
        "\n",
        "tokenizer = Tokenizer(num_words=max_words, oov_token=\"<UNK>\")\n",
        "tokenizer.fit_on_texts(X_train)\n",
        "\n",
        "X_train_seq = tokenizer.texts_to_sequences(X_train)\n",
        "X_test_seq = tokenizer.texts_to_sequences(X_test)\n",
        "\n",
        "# Pad the sequences to ensure uniform length\n",
        "X_train_pad = pad_sequences(X_train_seq, maxlen=max_length)\n",
        "X_test_pad = pad_sequences(X_test_seq, maxlen=max_length)\n",
        "\n",
        "# Convert the labels to numpy arrays\n",
        "y_train = np.array(y_train)\n",
        "y_test = np.array(y_test)"
      ]
    },
    {
      "cell_type": "markdown",
      "source": [
        "## Step 7: Build the CNN + BiLSTM Model Architecture\n",
        "\n",
        "This model combines Convolutional Neural Networks (CNNs) and a Bidirectional LSTM to extract both local and sequential features from the text:\n",
        "\n",
        "1. **Input Layer**:\n",
        "   - Accepts padded sequences of fixed length.\n",
        "\n",
        "2. **Embedding Layer**:\n",
        "   - Converts word indices to dense vectors of fixed size (`embedding_dim = 400`).\n",
        "\n",
        "3. **CNN Layers**:\n",
        "   - Two stacked 1D Convolution layers extract local n-gram features from the embeddings.\n",
        "   - Batch normalization is applied after each CNN layer to stabilize training.\n",
        "\n",
        "4. **Bidirectional LSTM**:\n",
        "   - Captures long-term dependencies in both forward and backward directions.\n",
        "\n",
        "5. **Dropout Layer**:\n",
        "   - Reduces overfitting by randomly disabling 80% of neurons during training.\n",
        "\n",
        "6. **Output Layer**:\n",
        "   - A single neuron with sigmoid activation for binary classification (abusive or not).\n",
        "   - L2 regularization is applied to penalize complex models and reduce overfitting.\n",
        "\n",
        "7. **Compilation**:\n",
        "   - Optimizer: `AdamW` (Adam with weight decay).\n",
        "   - Loss function: `binary_crossentropy` (suitable for binary classification).\n",
        "   - Metric: `accuracy`.\n",
        "\n",
        "Model summary is printed at the end to show layer-wise architecture.\n"
      ],
      "metadata": {
        "id": "bW8PsuM4rXLH"
      }
    },
    {
      "cell_type": "code",
      "execution_count": null,
      "metadata": {
        "colab": {
          "base_uri": "https://localhost:8080/",
          "height": 476
        },
        "id": "3kEvwfE0gpiO",
        "outputId": "8b1fccab-f21c-4065-d30e-d6385cc0b11e"
      },
      "outputs": [
        {
          "output_type": "display_data",
          "data": {
            "text/plain": [
              "\u001b[1mModel: \"functional\"\u001b[0m\n"
            ],
            "text/html": [
              "<pre style=\"white-space:pre;overflow-x:auto;line-height:normal;font-family:Menlo,'DejaVu Sans Mono',consolas,'Courier New',monospace\"><span style=\"font-weight: bold\">Model: \"functional\"</span>\n",
              "</pre>\n"
            ]
          },
          "metadata": {}
        },
        {
          "output_type": "display_data",
          "data": {
            "text/plain": [
              "┏━━━━━━━━━━━━━━━━━━━━━━━━━━━━━━━━━┳━━━━━━━━━━━━━━━━━━━━━━━━┳━━━━━━━━━━━━━━━┓\n",
              "┃\u001b[1m \u001b[0m\u001b[1mLayer (type)                   \u001b[0m\u001b[1m \u001b[0m┃\u001b[1m \u001b[0m\u001b[1mOutput Shape          \u001b[0m\u001b[1m \u001b[0m┃\u001b[1m \u001b[0m\u001b[1m      Param #\u001b[0m\u001b[1m \u001b[0m┃\n",
              "┡━━━━━━━━━━━━━━━━━━━━━━━━━━━━━━━━━╇━━━━━━━━━━━━━━━━━━━━━━━━╇━━━━━━━━━━━━━━━┩\n",
              "│ input_layer (\u001b[38;5;33mInputLayer\u001b[0m)        │ (\u001b[38;5;45mNone\u001b[0m, \u001b[38;5;34m400\u001b[0m)            │             \u001b[38;5;34m0\u001b[0m │\n",
              "├─────────────────────────────────┼────────────────────────┼───────────────┤\n",
              "│ embedding (\u001b[38;5;33mEmbedding\u001b[0m)           │ (\u001b[38;5;45mNone\u001b[0m, \u001b[38;5;34m400\u001b[0m, \u001b[38;5;34m400\u001b[0m)       │    \u001b[38;5;34m12,000,000\u001b[0m │\n",
              "├─────────────────────────────────┼────────────────────────┼───────────────┤\n",
              "│ conv1d (\u001b[38;5;33mConv1D\u001b[0m)                 │ (\u001b[38;5;45mNone\u001b[0m, \u001b[38;5;34m400\u001b[0m, \u001b[38;5;34m32\u001b[0m)        │        \u001b[38;5;34m76,832\u001b[0m │\n",
              "├─────────────────────────────────┼────────────────────────┼───────────────┤\n",
              "│ batch_normalization             │ (\u001b[38;5;45mNone\u001b[0m, \u001b[38;5;34m400\u001b[0m, \u001b[38;5;34m32\u001b[0m)        │           \u001b[38;5;34m128\u001b[0m │\n",
              "│ (\u001b[38;5;33mBatchNormalization\u001b[0m)            │                        │               │\n",
              "├─────────────────────────────────┼────────────────────────┼───────────────┤\n",
              "│ conv1d_1 (\u001b[38;5;33mConv1D\u001b[0m)               │ (\u001b[38;5;45mNone\u001b[0m, \u001b[38;5;34m400\u001b[0m, \u001b[38;5;34m16\u001b[0m)        │         \u001b[38;5;34m3,088\u001b[0m │\n",
              "├─────────────────────────────────┼────────────────────────┼───────────────┤\n",
              "│ batch_normalization_1           │ (\u001b[38;5;45mNone\u001b[0m, \u001b[38;5;34m400\u001b[0m, \u001b[38;5;34m16\u001b[0m)        │            \u001b[38;5;34m64\u001b[0m │\n",
              "│ (\u001b[38;5;33mBatchNormalization\u001b[0m)            │                        │               │\n",
              "├─────────────────────────────────┼────────────────────────┼───────────────┤\n",
              "│ bidirectional (\u001b[38;5;33mBidirectional\u001b[0m)   │ (\u001b[38;5;45mNone\u001b[0m, \u001b[38;5;34m16\u001b[0m)             │         \u001b[38;5;34m1,600\u001b[0m │\n",
              "├─────────────────────────────────┼────────────────────────┼───────────────┤\n",
              "│ dropout (\u001b[38;5;33mDropout\u001b[0m)               │ (\u001b[38;5;45mNone\u001b[0m, \u001b[38;5;34m16\u001b[0m)             │             \u001b[38;5;34m0\u001b[0m │\n",
              "├─────────────────────────────────┼────────────────────────┼───────────────┤\n",
              "│ dense (\u001b[38;5;33mDense\u001b[0m)                   │ (\u001b[38;5;45mNone\u001b[0m, \u001b[38;5;34m1\u001b[0m)              │            \u001b[38;5;34m17\u001b[0m │\n",
              "└─────────────────────────────────┴────────────────────────┴───────────────┘\n"
            ],
            "text/html": [
              "<pre style=\"white-space:pre;overflow-x:auto;line-height:normal;font-family:Menlo,'DejaVu Sans Mono',consolas,'Courier New',monospace\">┏━━━━━━━━━━━━━━━━━━━━━━━━━━━━━━━━━┳━━━━━━━━━━━━━━━━━━━━━━━━┳━━━━━━━━━━━━━━━┓\n",
              "┃<span style=\"font-weight: bold\"> Layer (type)                    </span>┃<span style=\"font-weight: bold\"> Output Shape           </span>┃<span style=\"font-weight: bold\">       Param # </span>┃\n",
              "┡━━━━━━━━━━━━━━━━━━━━━━━━━━━━━━━━━╇━━━━━━━━━━━━━━━━━━━━━━━━╇━━━━━━━━━━━━━━━┩\n",
              "│ input_layer (<span style=\"color: #0087ff; text-decoration-color: #0087ff\">InputLayer</span>)        │ (<span style=\"color: #00d7ff; text-decoration-color: #00d7ff\">None</span>, <span style=\"color: #00af00; text-decoration-color: #00af00\">400</span>)            │             <span style=\"color: #00af00; text-decoration-color: #00af00\">0</span> │\n",
              "├─────────────────────────────────┼────────────────────────┼───────────────┤\n",
              "│ embedding (<span style=\"color: #0087ff; text-decoration-color: #0087ff\">Embedding</span>)           │ (<span style=\"color: #00d7ff; text-decoration-color: #00d7ff\">None</span>, <span style=\"color: #00af00; text-decoration-color: #00af00\">400</span>, <span style=\"color: #00af00; text-decoration-color: #00af00\">400</span>)       │    <span style=\"color: #00af00; text-decoration-color: #00af00\">12,000,000</span> │\n",
              "├─────────────────────────────────┼────────────────────────┼───────────────┤\n",
              "│ conv1d (<span style=\"color: #0087ff; text-decoration-color: #0087ff\">Conv1D</span>)                 │ (<span style=\"color: #00d7ff; text-decoration-color: #00d7ff\">None</span>, <span style=\"color: #00af00; text-decoration-color: #00af00\">400</span>, <span style=\"color: #00af00; text-decoration-color: #00af00\">32</span>)        │        <span style=\"color: #00af00; text-decoration-color: #00af00\">76,832</span> │\n",
              "├─────────────────────────────────┼────────────────────────┼───────────────┤\n",
              "│ batch_normalization             │ (<span style=\"color: #00d7ff; text-decoration-color: #00d7ff\">None</span>, <span style=\"color: #00af00; text-decoration-color: #00af00\">400</span>, <span style=\"color: #00af00; text-decoration-color: #00af00\">32</span>)        │           <span style=\"color: #00af00; text-decoration-color: #00af00\">128</span> │\n",
              "│ (<span style=\"color: #0087ff; text-decoration-color: #0087ff\">BatchNormalization</span>)            │                        │               │\n",
              "├─────────────────────────────────┼────────────────────────┼───────────────┤\n",
              "│ conv1d_1 (<span style=\"color: #0087ff; text-decoration-color: #0087ff\">Conv1D</span>)               │ (<span style=\"color: #00d7ff; text-decoration-color: #00d7ff\">None</span>, <span style=\"color: #00af00; text-decoration-color: #00af00\">400</span>, <span style=\"color: #00af00; text-decoration-color: #00af00\">16</span>)        │         <span style=\"color: #00af00; text-decoration-color: #00af00\">3,088</span> │\n",
              "├─────────────────────────────────┼────────────────────────┼───────────────┤\n",
              "│ batch_normalization_1           │ (<span style=\"color: #00d7ff; text-decoration-color: #00d7ff\">None</span>, <span style=\"color: #00af00; text-decoration-color: #00af00\">400</span>, <span style=\"color: #00af00; text-decoration-color: #00af00\">16</span>)        │            <span style=\"color: #00af00; text-decoration-color: #00af00\">64</span> │\n",
              "│ (<span style=\"color: #0087ff; text-decoration-color: #0087ff\">BatchNormalization</span>)            │                        │               │\n",
              "├─────────────────────────────────┼────────────────────────┼───────────────┤\n",
              "│ bidirectional (<span style=\"color: #0087ff; text-decoration-color: #0087ff\">Bidirectional</span>)   │ (<span style=\"color: #00d7ff; text-decoration-color: #00d7ff\">None</span>, <span style=\"color: #00af00; text-decoration-color: #00af00\">16</span>)             │         <span style=\"color: #00af00; text-decoration-color: #00af00\">1,600</span> │\n",
              "├─────────────────────────────────┼────────────────────────┼───────────────┤\n",
              "│ dropout (<span style=\"color: #0087ff; text-decoration-color: #0087ff\">Dropout</span>)               │ (<span style=\"color: #00d7ff; text-decoration-color: #00d7ff\">None</span>, <span style=\"color: #00af00; text-decoration-color: #00af00\">16</span>)             │             <span style=\"color: #00af00; text-decoration-color: #00af00\">0</span> │\n",
              "├─────────────────────────────────┼────────────────────────┼───────────────┤\n",
              "│ dense (<span style=\"color: #0087ff; text-decoration-color: #0087ff\">Dense</span>)                   │ (<span style=\"color: #00d7ff; text-decoration-color: #00d7ff\">None</span>, <span style=\"color: #00af00; text-decoration-color: #00af00\">1</span>)              │            <span style=\"color: #00af00; text-decoration-color: #00af00\">17</span> │\n",
              "└─────────────────────────────────┴────────────────────────┴───────────────┘\n",
              "</pre>\n"
            ]
          },
          "metadata": {}
        },
        {
          "output_type": "display_data",
          "data": {
            "text/plain": [
              "\u001b[1m Total params: \u001b[0m\u001b[38;5;34m12,081,729\u001b[0m (46.09 MB)\n"
            ],
            "text/html": [
              "<pre style=\"white-space:pre;overflow-x:auto;line-height:normal;font-family:Menlo,'DejaVu Sans Mono',consolas,'Courier New',monospace\"><span style=\"font-weight: bold\"> Total params: </span><span style=\"color: #00af00; text-decoration-color: #00af00\">12,081,729</span> (46.09 MB)\n",
              "</pre>\n"
            ]
          },
          "metadata": {}
        },
        {
          "output_type": "display_data",
          "data": {
            "text/plain": [
              "\u001b[1m Trainable params: \u001b[0m\u001b[38;5;34m12,081,633\u001b[0m (46.09 MB)\n"
            ],
            "text/html": [
              "<pre style=\"white-space:pre;overflow-x:auto;line-height:normal;font-family:Menlo,'DejaVu Sans Mono',consolas,'Courier New',monospace\"><span style=\"font-weight: bold\"> Trainable params: </span><span style=\"color: #00af00; text-decoration-color: #00af00\">12,081,633</span> (46.09 MB)\n",
              "</pre>\n"
            ]
          },
          "metadata": {}
        },
        {
          "output_type": "display_data",
          "data": {
            "text/plain": [
              "\u001b[1m Non-trainable params: \u001b[0m\u001b[38;5;34m96\u001b[0m (384.00 B)\n"
            ],
            "text/html": [
              "<pre style=\"white-space:pre;overflow-x:auto;line-height:normal;font-family:Menlo,'DejaVu Sans Mono',consolas,'Courier New',monospace\"><span style=\"font-weight: bold\"> Non-trainable params: </span><span style=\"color: #00af00; text-decoration-color: #00af00\">96</span> (384.00 B)\n",
              "</pre>\n"
            ]
          },
          "metadata": {}
        }
      ],
      "source": [
        "from tensorflow.keras.layers import Input, Embedding, Conv1D, GlobalAveragePooling1D, Dropout, Dense, BatchNormalization\n",
        "from tensorflow.keras.models import Model\n",
        "from tensorflow.keras.regularizers import l2\n",
        "from tensorflow.keras.optimizers import AdamW\n",
        "from tensorflow.keras.callbacks import ReduceLROnPlateau, EarlyStopping\n",
        "from tensorflow.keras.layers import LSTM, Bidirectional\n",
        "embedding_dim =400\n",
        "input_layer = Input(shape=(max_length,))\n",
        "embedding_layer = Embedding(input_dim=max_words, output_dim=embedding_dim)(input_layer)\n",
        "\n",
        "# CNN\n",
        "cnn_layer = Conv1D(filters=32, kernel_size=6, activation='relu', padding='same')(embedding_layer)\n",
        "cnn_layer = BatchNormalization()(cnn_layer)\n",
        "cnn_layer = Conv1D(filters=16, kernel_size=6, activation='relu', padding='same')(cnn_layer)\n",
        "cnn_layer = BatchNormalization()(cnn_layer)\n",
        "\n",
        "# BiLTSM\n",
        "bilstm_layer = Bidirectional(LSTM(8, return_sequences=False))(cnn_layer)\n",
        "dropout_layer = Dropout(0.8)(bilstm_layer)\n",
        "\n",
        "output_layer = Dense(1, activation='sigmoid', kernel_regularizer=l2(0.06))(dropout_layer)\n",
        "\n",
        "model = Model(inputs=input_layer, outputs=output_layer)\n",
        "model.compile(optimizer=AdamW(learning_rate=0.00005, weight_decay=1e-5),\n",
        "              loss='binary_crossentropy',\n",
        "              metrics=['accuracy'])\n",
        "\n",
        "model.summary()\n"
      ]
    },
    {
      "cell_type": "markdown",
      "source": [
        "## Step 8: Model Training with Callbacks\n",
        "\n",
        "In this stage, the model is trained on the prepared data using key training strategies:\n",
        "\n",
        "1. **EarlyStopping**:\n",
        "   - Monitors validation loss.\n",
        "   - Stops training if no improvement after 5 epochs.\n",
        "   - Restores the best model weights to avoid overfitting.\n",
        "\n",
        "2. **ReduceLROnPlateau**:\n",
        "   - Reduces the learning rate by a factor of 0.2 if validation loss doesn't improve for 3 epochs.\n",
        "   - Prevents the model from getting stuck by allowing finer learning at plateaus.\n",
        "\n",
        "3. **Training Configuration**:\n",
        "   - Uses a batch size of 64 and trains up to 200 epochs.\n",
        "   - Validates on the test set after each epoch.\n",
        "   - Both callbacks are included to enhance training efficiency and performance.\n"
      ],
      "metadata": {
        "id": "zJLiB4h8rkro"
      }
    },
    {
      "cell_type": "code",
      "execution_count": null,
      "metadata": {
        "colab": {
          "base_uri": "https://localhost:8080/"
        },
        "id": "SXNX8gIagroy",
        "outputId": "4d3b64e7-9baa-456c-9955-f118076441c6"
      },
      "outputs": [
        {
          "output_type": "stream",
          "name": "stdout",
          "text": [
            "Epoch 1/200\n",
            "\u001b[1m9660/9660\u001b[0m \u001b[32m━━━━━━━━━━━━━━━━━━━━\u001b[0m\u001b[37m\u001b[0m \u001b[1m433s\u001b[0m 44ms/step - accuracy: 0.6493 - loss: 0.7092 - val_accuracy: 0.8158 - val_loss: 0.4841 - learning_rate: 5.0000e-05\n",
            "Epoch 2/200\n",
            "\u001b[1m9660/9660\u001b[0m \u001b[32m━━━━━━━━━━━━━━━━━━━━\u001b[0m\u001b[37m\u001b[0m \u001b[1m437s\u001b[0m 44ms/step - accuracy: 0.7799 - loss: 0.5115 - val_accuracy: 0.8006 - val_loss: 0.4714 - learning_rate: 5.0000e-05\n",
            "Epoch 3/200\n",
            "\u001b[1m9660/9660\u001b[0m \u001b[32m━━━━━━━━━━━━━━━━━━━━\u001b[0m\u001b[37m\u001b[0m \u001b[1m427s\u001b[0m 44ms/step - accuracy: 0.8064 - loss: 0.4713 - val_accuracy: 0.8330 - val_loss: 0.4357 - learning_rate: 5.0000e-05\n",
            "Epoch 4/200\n",
            "\u001b[1m9660/9660\u001b[0m \u001b[32m━━━━━━━━━━━━━━━━━━━━\u001b[0m\u001b[37m\u001b[0m \u001b[1m434s\u001b[0m 43ms/step - accuracy: 0.8287 - loss: 0.4378 - val_accuracy: 0.8324 - val_loss: 0.4396 - learning_rate: 5.0000e-05\n",
            "Epoch 5/200\n",
            "\u001b[1m9660/9660\u001b[0m \u001b[32m━━━━━━━━━━━━━━━━━━━━\u001b[0m\u001b[37m\u001b[0m \u001b[1m441s\u001b[0m 43ms/step - accuracy: 0.8463 - loss: 0.4084 - val_accuracy: 0.8312 - val_loss: 0.4431 - learning_rate: 5.0000e-05\n",
            "Epoch 6/200\n",
            "\u001b[1m9659/9660\u001b[0m \u001b[32m━━━━━━━━━━━━━━━━━━━\u001b[0m\u001b[37m━\u001b[0m \u001b[1m0s\u001b[0m 42ms/step - accuracy: 0.8591 - loss: 0.3841\n",
            "Epoch 6: ReduceLROnPlateau reducing learning rate to 9.999999747378752e-06.\n",
            "\u001b[1m9660/9660\u001b[0m \u001b[32m━━━━━━━━━━━━━━━━━━━━\u001b[0m\u001b[37m\u001b[0m \u001b[1m449s\u001b[0m 44ms/step - accuracy: 0.8591 - loss: 0.3841 - val_accuracy: 0.8285 - val_loss: 0.4496 - learning_rate: 5.0000e-05\n",
            "Epoch 7/200\n",
            "\u001b[1m9660/9660\u001b[0m \u001b[32m━━━━━━━━━━━━━━━━━━━━\u001b[0m\u001b[37m\u001b[0m \u001b[1m441s\u001b[0m 44ms/step - accuracy: 0.8746 - loss: 0.3588 - val_accuracy: 0.8267 - val_loss: 0.4516 - learning_rate: 1.0000e-05\n",
            "Epoch 8/200\n",
            "\u001b[1m9660/9660\u001b[0m \u001b[32m━━━━━━━━━━━━━━━━━━━━\u001b[0m\u001b[37m\u001b[0m \u001b[1m442s\u001b[0m 44ms/step - accuracy: 0.8804 - loss: 0.3461 - val_accuracy: 0.8269 - val_loss: 0.4603 - learning_rate: 1.0000e-05\n",
            "Epoch 8: early stopping\n",
            "Restoring model weights from the end of the best epoch: 3.\n"
          ]
        }
      ],
      "source": [
        "# Trainig stage with early stopping\n",
        "# Define Early Stopping\n",
        "early_stop = EarlyStopping(monitor='val_loss', patience=5, restore_best_weights=True, verbose=1)\n",
        "\n",
        "# Define Learning Rate Scheduler\n",
        "reduce_lr = ReduceLROnPlateau(\n",
        "    monitor='val_loss',\n",
        "    factor=0.2,  # Reduce learning rate by 20%\n",
        "    patience=3,  # If no improvement for 3 epochs\n",
        "    min_lr=1e-6,\n",
        "    verbose=1\n",
        ")\n",
        "\n",
        "# Train the Model\n",
        "history = model.fit(\n",
        "    X_train_pad, y_train,\n",
        "    epochs=200,\n",
        "    batch_size=64,\n",
        "    validation_data=(X_test_pad, y_test),\n",
        "    callbacks=[reduce_lr, early_stop]  # Add both ReduceLROnPlateau and EarlyStopping\n",
        ")"
      ]
    },
    {
      "cell_type": "markdown",
      "source": [
        "## Step 9: Model Evaluation and Overfitting Analysis\n",
        "\n",
        "In this step, we assess how well the model performs on unseen data and analyze its learning behavior over time.\n",
        "\n",
        "###  **Evaluate on Test Data**\n",
        "This evaluates the trained model on the test dataset.\n",
        "\n",
        "It returns the loss and accuracy, giving an indication of how well the model generalizes.\n",
        "\n",
        "A high test accuracy and low loss imply good generalization.\n",
        "\n"
      ],
      "metadata": {
        "id": "QvzUUbOfsxLh"
      }
    },
    {
      "cell_type": "code",
      "execution_count": null,
      "metadata": {
        "colab": {
          "base_uri": "https://localhost:8080/"
        },
        "id": "1Iu3uKhDgwI4",
        "outputId": "274d2c56-d88c-4201-f3ee-7a5e46a15c49"
      },
      "outputs": [
        {
          "output_type": "stream",
          "name": "stdout",
          "text": [
            "\u001b[1m2147/2147\u001b[0m \u001b[32m━━━━━━━━━━━━━━━━━━━━\u001b[0m\u001b[37m\u001b[0m \u001b[1m28s\u001b[0m 13ms/step - accuracy: 0.8345 - loss: 0.4345\n",
            "Loss: 0.4357, Accuracy: 0.8330\n"
          ]
        }
      ],
      "source": [
        "# model Evaluation\n",
        "loss, accuracy = model.evaluate(X_test_pad, y_test)\n",
        "print(f\"Loss: {loss:.4f}, Accuracy: {accuracy:.4f}\")"
      ]
    },
    {
      "cell_type": "code",
      "execution_count": null,
      "metadata": {
        "colab": {
          "base_uri": "https://localhost:8080/",
          "height": 881
        },
        "id": "sOHvnDD0gyMW",
        "outputId": "aadecf43-31a0-4a3b-b770-db4c191b9dbe"
      },
      "outputs": [
        {
          "output_type": "display_data",
          "data": {
            "text/plain": [
              "<Figure size 640x480 with 1 Axes>"
            ],
            "image/png": "[encoded data removed]"
          },
          "metadata": {}
        },
        {
          "output_type": "display_data",
          "data": {
            "text/plain": [
              "<Figure size 640x480 with 1 Axes>"
            ],
            "image/png": "[encoded data removed]"
          },
          "metadata": {}
        }
      ],
      "source": [
        "# loss and accuracy for Train and test to show model Over or underfitting\n",
        "plt.plot(history.history['accuracy'], label='Train Accuracy')\n",
        "plt.plot(history.history['val_accuracy'], label='Validation Accuracy')\n",
        "plt.xlabel('Epochs')\n",
        "plt.ylabel('Accuracy')\n",
        "plt.legend()\n",
        "plt.show()\n",
        "\n",
        "plt.plot(history.history['loss'], label='Train loss')\n",
        "plt.plot(history.history['val_loss'], label='Validation loss')\n",
        "plt.xlabel('Epochs')\n",
        "plt.ylabel('loss')\n",
        "plt.legend()\n",
        "plt.show()"
      ]
    },
    {
      "cell_type": "markdown",
      "source": [
        "## Step 10: Saving the Trained Model and Tokenizer\n",
        "\n",
        "To reuse the trained model later or deploy it, we save both the model and the tokenizer. This ensures the text preprocessing during inference matches the training phase.\n",
        "\n",
        "### 1. **Save the Model**\n",
        "Saves the entire model architecture, weights, and optimizer state.\n",
        "\n",
        "File format .h5 (HDF5) is commonly used for saving Keras models.\n",
        "\n",
        "Stored directly to Google Drive for persistence across sessions.\n",
        "### 2. Save the Tokenizer\n",
        "Serializes the tokenizer object using pickle and saves it as a .pickle file.\n",
        "\n",
        "Ensures the same tokenization logic can be used during inference or further training.\n",
        "\n",
        "Downloads the saved tokenizer to  local machine for use outside Colab."
      ],
      "metadata": {
        "id": "C6ZACu79tQaC"
      }
    },
    {
      "cell_type": "code",
      "source": [
        "from google.colab import files\n",
        "files.download('/content/drive/MyDrive/DS_Colab_Projects/sentiment_model2.h5')\n"
      ],
      "metadata": {
        "colab": {
          "base_uri": "https://localhost:8080/",
          "height": 17
        },
        "id": "wwElmTfbw82D",
        "outputId": "72bc2e1c-9bde-475f-c8c0-4bc1670287be"
      },
      "execution_count": null,
      "outputs": [
        {
          "output_type": "display_data",
          "data": {
            "text/plain": [
              "<IPython.core.display.Javascript object>"
            ],
            "application/javascript": [
              "\n",
              "    async function download(id, filename, size) {\n",
              "      if (!google.colab.kernel.accessAllowed) {\n",
              "        return;\n",
              "      }\n",
              "      const div = document.createElement('div');\n",
              "      const label = document.createElement('label');\n",
              "      label.textContent = `Downloading \"${filename}\": `;\n",
              "      div.appendChild(label);\n",
              "      const progress = document.createElement('progress');\n",
              "      progress.max = size;\n",
              "      div.appendChild(progress);\n",
              "      document.body.appendChild(div);\n",
              "\n",
              "      const buffers = [];\n",
              "      let downloaded = 0;\n",
              "\n",
              "      const channel = await google.colab.kernel.comms.open(id);\n",
              "      // Send a message to notify the kernel that we're ready.\n",
              "      channel.send({})\n",
              "\n",
              "      for await (const message of channel.messages) {\n",
              "        // Send a message to notify the kernel that we're ready.\n",
              "        channel.send({})\n",
              "        if (message.buffers) {\n",
              "          for (const buffer of message.buffers) {\n",
              "            buffers.push(buffer);\n",
              "            downloaded += buffer.byteLength;\n",
              "            progress.value = downloaded;\n",
              "          }\n",
              "        }\n",
              "      }\n",
              "      const blob = new Blob(buffers, {type: 'application/binary'});\n",
              "      const a = document.createElement('a');\n",
              "      a.href = window.URL.createObjectURL(blob);\n",
              "      a.download = filename;\n",
              "      div.appendChild(a);\n",
              "      a.click();\n",
              "      div.remove();\n",
              "    }\n",
              "  "
            ]
          },
          "metadata": {}
        },
        {
          "output_type": "display_data",
          "data": {
            "text/plain": [
              "<IPython.core.display.Javascript object>"
            ],
            "application/javascript": [
              "download(\"download_26b28a40-a0e0-45a0-bd44-191800c1c4d0\", \"sentiment_model2.h5\", 145049736)"
            ]
          },
          "metadata": {}
        }
      ]
    },
    {
      "cell_type": "code",
      "source": [
        "import pickle\n",
        "\n",
        "with open('/content/drive/MyDrive/DS_Colab_Projects/tokenizer.pickle', 'wb') as handle:\n",
        "    pickle.dump(tokenizer, handle, protocol=pickle.HIGHEST_PROTOCOL)\n",
        "\n",
        "files.download('/content/drive/MyDrive/DS_Colab_Projects/tokenizer.pickle')\n"
      ],
      "metadata": {
        "colab": {
          "base_uri": "https://localhost:8080/",
          "height": 17
        },
        "id": "uA8C_2W4wxRC",
        "outputId": "11dcbe28-f690-4168-b0c5-2e5660b47148"
      },
      "execution_count": null,
      "outputs": [
        {
          "output_type": "display_data",
          "data": {
            "text/plain": [
              "<IPython.core.display.Javascript object>"
            ],
            "application/javascript": [
              "\n",
              "    async function download(id, filename, size) {\n",
              "      if (!google.colab.kernel.accessAllowed) {\n",
              "        return;\n",
              "      }\n",
              "      const div = document.createElement('div');\n",
              "      const label = document.createElement('label');\n",
              "      label.textContent = `Downloading \"${filename}\": `;\n",
              "      div.appendChild(label);\n",
              "      const progress = document.createElement('progress');\n",
              "      progress.max = size;\n",
              "      div.appendChild(progress);\n",
              "      document.body.appendChild(div);\n",
              "\n",
              "      const buffers = [];\n",
              "      let downloaded = 0;\n",
              "\n",
              "      const channel = await google.colab.kernel.comms.open(id);\n",
              "      // Send a message to notify the kernel that we're ready.\n",
              "      channel.send({})\n",
              "\n",
              "      for await (const message of channel.messages) {\n",
              "        // Send a message to notify the kernel that we're ready.\n",
              "        channel.send({})\n",
              "        if (message.buffers) {\n",
              "          for (const buffer of message.buffers) {\n",
              "            buffers.push(buffer);\n",
              "            downloaded += buffer.byteLength;\n",
              "            progress.value = downloaded;\n",
              "          }\n",
              "        }\n",
              "      }\n",
              "      const blob = new Blob(buffers, {type: 'application/binary'});\n",
              "      const a = document.createElement('a');\n",
              "      a.href = window.URL.createObjectURL(blob);\n",
              "      a.download = filename;\n",
              "      div.appendChild(a);\n",
              "      a.click();\n",
              "      div.remove();\n",
              "    }\n",
              "  "
            ]
          },
          "metadata": {}
        },
        {
          "output_type": "display_data",
          "data": {
            "text/plain": [
              "<IPython.core.display.Javascript object>"
            ],
            "application/javascript": [
              "download(\"download_3940a94b-c969-4c97-805d-e02b5d7b852c\", \"tokenizer.pickle\", 67725272)"
            ]
          },
          "metadata": {}
        }
      ]
    },
    {
      "cell_type": "code",
      "execution_count": null,
      "metadata": {
        "colab": {
          "base_uri": "https://localhost:8080/"
        },
        "id": "eqJ6unBciPfi",
        "outputId": "050504a5-930f-4f72-fae1-7add6c5a2282"
      },
      "outputs": [
        {
          "output_type": "stream",
          "name": "stderr",
          "text": [
            "WARNING:absl:You are saving your model as an HDF5 file via `model.save()` or `keras.saving.save_model(model)`. This file format is considered legacy. We recommend using instead the native Keras format, e.g. `model.save('my_model.keras')` or `keras.saving.save_model(model, 'my_model.keras')`. \n"
          ]
        },
        {
          "output_type": "stream",
          "name": "stdout",
          "text": [
            "Model saved to /content/drive/MyDrive/DS_Colab_Projects/sentiment_model2.h5\n"
          ]
        }
      ],
      "source": [
        "\n",
        "# Define the path to save the model in Google Drive\n",
        "model_save_path = \"/content/drive/MyDrive/DS_Colab_Projects/sentiment_model2.h5\"\n",
        "\n",
        "# Save the model\n",
        "model.save(model_save_path)\n",
        "print(f\"Model saved to {model_save_path}\")"
      ]
    },
    {
      "cell_type": "markdown",
      "source": [
        "## Step 11: Loading the Model and Making Predictions\n",
        "\n",
        "In this step, we demonstrate how to load the saved model and tokenizer, preprocess new input text, and perform sentiment predictions.\n",
        "\n",
        "---\n",
        "\n",
        "### 1. **Mount Google Drive**\n",
        "Connects Google Drive to the Colab environment.\n",
        "\n",
        "Ensures access to saved model files and tokenizer.\n",
        "\n",
        "### 2. Load the Trained Model\n",
        "\n",
        "Loads the trained model from the saved .h5 file.\n",
        "\n",
        "Enables us to use the model without retraining.\n",
        "### 3. Prepare New Text Data for Prediction\n",
        "New Arabic text samples are provided for inference.\n",
        "\n",
        "The tokenizer (previously fitted on training data) is used to convert text to sequences.\n",
        "\n",
        "pad_sequences ensures the input size matches what the model expects (maxlen).\n",
        "### 4. Predict Sentiments\n",
        "Predicts sentiment scores using the trained model.\n",
        "\n",
        "Applies a threshold of 0.5:\n",
        "\n",
        "P (Positive) if score ≥ 0.5\n",
        "\n",
        "N (Negative) if score < 0.5\n",
        "\n",
        "Also calculates confidence levels for each prediction.\n",
        "\n"
      ],
      "metadata": {
        "id": "VwnRzw35twfF"
      }
    },
    {
      "cell_type": "code",
      "execution_count": null,
      "metadata": {
        "colab": {
          "base_uri": "https://localhost:8080/"
        },
        "id": "Y0MKSFaoRHVi",
        "outputId": "ab5209f3-b06e-4b20-86e4-63508c8ca8d9"
      },
      "outputs": [
        {
          "output_type": "stream",
          "name": "stdout",
          "text": [
            "Mounted at /content/drive\n"
          ]
        },
        {
          "output_type": "stream",
          "name": "stderr",
          "text": [
            "WARNING:absl:Compiled the loaded model, but the compiled metrics have yet to be built. `model.compile_metrics` will be empty until you train or evaluate the model.\n"
          ]
        },
        {
          "output_type": "stream",
          "name": "stdout",
          "text": [
            "Model loaded successfully.\n",
            "Tokenizer loaded successfully.\n",
            "\u001b[1m1/1\u001b[0m \u001b[32m━━━━━━━━━━━━━━━━━━━━\u001b[0m\u001b[37m\u001b[0m \u001b[1m5s\u001b[0m 5s/step\n",
            "1- Text: الفيلم كان ممل جدًا وضاع وقتي عليه\n",
            "Predicted Label: N (Confidence: 0.8485)\n",
            "\n",
            "2- Text: خدمة العملاء كانت ممتازة وتعامل راقي جدًا\n",
            "Predicted Label: P (Confidence: 0.7387)\n",
            "\n",
            "3- Text: ياخي المباراة اليوم كانت كارثة بكل معنى الكلمة\n",
            "Predicted Label: N (Confidence: 0.8256)\n",
            "\n",
            "4- Text: التطبيق سهل الاستخدام والتصميم جميل\n",
            "Predicted Label: P (Confidence: 0.7272)\n",
            "\n",
            "5- Text: ما توقعت المنتج يوصل بسرعة كذا، شكراً لكم\n",
            "Predicted Label: N (Confidence: 0.5600)\n",
            "\n",
            "6- Text: والله تجربة سيئة ولن أكررها أبدًا\n",
            "Predicted Label: P (Confidence: 0.5278)\n",
            "\n",
            "7- Text: الوجبة كانت لذيذة والخدمة سريعة\n",
            "Predicted Label: P (Confidence: 0.6684)\n",
            "\n",
            "8- Text: مافي شي أعجبني في هذا المكان، تجربة سيئة\n",
            "Predicted Label: P (Confidence: 0.5577)\n",
            "\n",
            "9- Text: شكراً على التحديث الجديد، الأداء صار أفضل بكثير\n",
            "Predicted Label: P (Confidence: 0.7152)\n",
            "\n",
            "10- Text: ليش الأسعار مرتفعة جدًا؟ ما يستاهل الصراحة\n",
            "Predicted Label: N (Confidence: 0.7451)\n",
            "\n"
          ]
        }
      ],
      "source": [
        "# Load Model and Tokenizer for Prediction\n",
        "from tensorflow.keras.models import load_model\n",
        "from tensorflow.keras.preprocessing.sequence import pad_sequences\n",
        "import pickle\n",
        "from google.colab import drive\n",
        "\n",
        "# Mount Google Drive\n",
        "drive.mount('/content/drive')\n",
        "\n",
        "# Load the saved model\n",
        "model_save_path = \"/content/drive/MyDrive/DS_Colab_Projects/sentiment_model2.h5\"\n",
        "loaded_model = load_model(model_save_path)\n",
        "print(\"Model loaded successfully.\")\n",
        "\n",
        "# Load the saved tokenizer\n",
        "tokenizer_path = \"/content/drive/MyDrive/DS_Colab_Projects/tokenizer.pickle\"\n",
        "with open(tokenizer_path, 'rb') as handle:\n",
        "    tokenizer = pickle.load(handle)\n",
        "print(\"Tokenizer loaded successfully.\")\n",
        "\n",
        "# Example Predictions\n",
        "new_texts = [\n",
        "    \"الفيلم كان ممل جدًا وضاع وقتي عليه\",                  # 1-Negative\n",
        "    \"خدمة العملاء كانت ممتازة وتعامل راقي جدًا\",           # 2-Positive\n",
        "    \"ياخي المباراة اليوم كانت كارثة بكل معنى الكلمة\",   # 3-Negative\n",
        "    \"التطبيق سهل الاستخدام والتصميم جميل\",                # 4-Positive\n",
        "    \"ما توقعت المنتج يوصل بسرعة كذا، شكراً لكم\",         # 5-Positive\n",
        "    \"والله تجربة سيئة ولن أكررها أبدًا\",                 # 6-Negative\n",
        "    \"الوجبة كانت لذيذة والخدمة سريعة\",                  # 7-Positive\n",
        "    \"مافي شي أعجبني في هذا المكان، تجربة سيئة\",        # 8-Negative\n",
        "    \"شكراً على التحديث الجديد، الأداء صار أفضل بكثير\",   # 9-Positive\n",
        "    \"ليش الأسعار مرتفعة جدًا؟ ما يستاهل الصراحة\"         # 10-Negative\n",
        "]\n",
        "\n",
        "# Tokenize and pad the new texts\n",
        "max_length = 400  # or whatever was used during training\n",
        "new_text_seq = tokenizer.texts_to_sequences(new_texts)\n",
        "new_text_pad = pad_sequences(new_text_seq, maxlen=max_length)\n",
        "\n",
        "# Make predictions using the loaded model\n",
        "predictions = loaded_model.predict(new_text_pad)\n",
        "predicted_labels = [\"N\" if pred < 0.5 else \"P\" for pred in predictions.flatten()]\n",
        "confidences = [pred[0] if label == \"P\" else 1 - pred[0] for pred, label in zip(predictions, predicted_labels)]\n",
        "\n",
        "# Print results\n",
        "for i, (text, label, confidence) in enumerate(zip(new_texts, predicted_labels, confidences)):\n",
        "    print(f\"{i+1}- Text: {text}\")\n",
        "    print(f\"Predicted Label: {label} (Confidence: {confidence:.4f})\\n\")\n",
        "# 7 of 10 text are Correct and tha accuracy of Model was 83%"
      ]
    }
  ],
  "metadata": {
    "accelerator": "GPU",
    "colab": {
      "gpuType": "T4",
      "provenance": []
    },
    "kernelspec": {
      "display_name": "Python 3",
      "name": "python3"
    },
    "language_info": {
      "name": "python"
    }
  },
  "nbformat": 4,
  "nbformat_minor": 0
}